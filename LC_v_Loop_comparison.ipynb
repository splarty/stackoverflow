{
 "cells": [
  {
   "cell_type": "markdown",
   "metadata": {},
   "source": [
    "### Using list comprehension to update dictionary values\n",
    "\n",
    "A Comparison of _list comprehension_ and _loops_ using _timeit_ and _cProfile_"
   ]
  },
  {
   "cell_type": "code",
   "execution_count": null,
   "metadata": {},
   "outputs": [],
   "source": [
    "import markdown\n",
    "import timeit\n",
    "import cProfile\n",
    "\n",
    "md = markdown.Markdown()\n",
    "\n",
    "def mdToHTMLLC():\n",
    "    '''\n",
    "    Markdown to HTML using List Comprehension\n",
    "    \n",
    "    Creates nList lists containing nList dictionaries \n",
    "      (with values that contain markdown)\n",
    "    A portion of values, bList, are selected to have the Markdown converted to HTML \n",
    "      (to replicate the intended useage)\n",
    "    A List Comprehension, using .update(), converts the relevant keys'''\n",
    "    nList = 1000\n",
    "    bList = [500,700]\n",
    "    # A list of dictionaries, the dictionary values contain markdown\n",
    "    aList = [{str(n):\"[_{0}_]({0})\".format(str(n)) for n in list(range(nList))}\n",
    "         for n in list(range(nList))]\n",
    "    # A list of keys, for which the values will be converted\n",
    "    keyList = [str(n) for n in list(range(bList[0],bList[1]))]\n",
    "\n",
    "    # List Comprehension to update the relevant keys for all dictionaries\n",
    "    [d.update({cols:md.convert(d[cols])})\n",
    "         if d[cols] and isinstance(d[cols],str) else d.update({cols:\"No Entry\"})\n",
    "             for cols in keyList for d in aList]\n",
    "    \n",
    "\n",
    "# Time 100 calls\n",
    "print(timeit.timeit(\"mdToHTMLLC()\", number=100, globals=globals()))\n",
    "# Profile the Loop Version of the Function\n",
    "cProfile.run('mdToHTMLLC()', 'LC_stats')"
   ]
  },
  {
   "cell_type": "code",
   "execution_count": null,
   "metadata": {},
   "outputs": [],
   "source": [
    "import markdown\n",
    "import timeit\n",
    "import cProfile\n",
    "\n",
    "md = markdown.Markdown()\n",
    "\n",
    "def mdToHTMLLoop():\n",
    "    '''\n",
    "    Markdown to HTML using List Comprehension\n",
    "    \n",
    "    Creates nList lists containing nList dictionaries \n",
    "      (with values that contain markdown)\n",
    "    A portion of values, bList, are selected to have the Markdown converted to HTML \n",
    "      (to replicate the intended useage)\n",
    "    A List Comprehension, using .update(), converts the relevant keys'''\n",
    "    nList = 1000\n",
    "    bList = [500,700]\n",
    "    # A list of dictionaries, the dictionary values contain markdown\n",
    "    aList = [{str(n):\"[_{0}_]({0})\".format(str(n)) for n in list(range(nList))}\n",
    "         for n in list(range(nList))]\n",
    "    # A list of keys, for which the values will be converted\n",
    "    keyList = [str(n) for n in list(range(bList[0],bList[1]))]\n",
    "\n",
    "    # A Loop to update the relevant keys for all dictionaries\n",
    "    # for each dictionary in the list\n",
    "    for d in aList:\n",
    "        # for each key in the keyList\n",
    "        for cols in keyList:\n",
    "            # if the value exists and is a string\n",
    "            if d[cols] and isinstance(d[cols],str):\n",
    "                # convert Markdown to HTML\n",
    "                d[cols] = md.convert(d[cols])\n",
    "            # otherwise\n",
    "            else:\n",
    "                # change the value to \"No Entry\"\n",
    "                d[cols] = \"No Entry\"\n",
    "\n",
    "# Time 100 calls\n",
    "print(timeit.timeit(\"mdToHTMLLoop()\", number=100, globals=globals()))\n",
    "# Profile the Loop Version of the Function\n",
    "cProfile.run('mdToHTMLLoop()', 'Loop_stats')"
   ]
  },
  {
   "cell_type": "code",
   "execution_count": null,
   "metadata": {},
   "outputs": [],
   "source": []
  }
 ],
 "metadata": {
  "kernelspec": {
   "display_name": "Python 3",
   "language": "python",
   "name": "python3"
  },
  "language_info": {
   "codemirror_mode": {
    "name": "ipython",
    "version": 3
   },
   "file_extension": ".py",
   "mimetype": "text/x-python",
   "name": "python",
   "nbconvert_exporter": "python",
   "pygments_lexer": "ipython3",
   "version": "3.6.6"
  }
 },
 "nbformat": 4,
 "nbformat_minor": 2
}
